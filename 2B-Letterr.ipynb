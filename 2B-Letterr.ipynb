{
 "cells": [
  {
   "cell_type": "markdown",
   "id": "111ad3f0",
   "metadata": {},
   "source": [
    "## Import Libraries"
   ]
  },
  {
   "cell_type": "code",
   "execution_count": 1,
   "id": "1d988b65",
   "metadata": {},
   "outputs": [],
   "source": [
    "import tensorflow as tf\n",
    "from tensorflow.keras.models import Sequential\n",
    "from tensorflow.keras.layers import Dense\n",
    "from sklearn.model_selection import train_test_split\n",
    "from sklearn.preprocessing import LabelEncoder\n",
    "import pandas as pd\n",
    "import numpy as np\n",
    "import tkinter as tk\n",
    "from tkinter import messagebox\n",
    "import time"
   ]
  },
  {
   "cell_type": "markdown",
   "id": "fb4affd6",
   "metadata": {},
   "source": [
    "## Download and Load dataset"
   ]
  },
  {
   "cell_type": "code",
   "execution_count": 2,
   "id": "e71c9d68",
   "metadata": {},
   "outputs": [],
   "source": [
    "# Download and load the dataset (replace 'your_data_path' with the actual path)\n",
    "data_path = 'letter-recognition.data'\n",
    "columns = ['letter'] + [f'feature_{i}' for i in range(16)]\n",
    "df = pd.read_csv(data_path, names=columns)"
   ]
  },
  {
   "cell_type": "markdown",
   "id": "c10ef635",
   "metadata": {},
   "source": [
    "## Preprocessing: 1\n",
    "### Encoding letter-> Splitting dataset-> Preparing i/p features"
   ]
  },
  {
   "cell_type": "code",
   "execution_count": 3,
   "id": "21f3baba",
   "metadata": {},
   "outputs": [],
   "source": [
    "# Preprocess the data\n",
    "label_encoder = LabelEncoder()\n",
    "df['target'] = label_encoder.fit_transform(df['letter'])\n",
    "X = df.drop(['letter', 'target'], axis=1)\n",
    "y = df['target']\n",
    "\n",
    "# Split the dataset\n",
    "X_train, X_test, y_train, y_test = train_test_split(X, y, test_size=0.2, random_state=42)"
   ]
  },
  {
   "cell_type": "markdown",
   "id": "fa262b25",
   "metadata": {},
   "source": [
    "## Keras-Sequential model\n",
    "### Input layer\n",
    "### First hidden layer\n",
    "### Second hidden layer\n",
    "### Output layer"
   ]
  },
  {
   "cell_type": "code",
   "execution_count": 4,
   "id": "ae0a3aaa",
   "metadata": {},
   "outputs": [
    {
     "name": "stdout",
     "output_type": "stream",
     "text": [
      "Epoch 1/10\n"
     ]
    },
    {
     "name": "stderr",
     "output_type": "stream",
     "text": [
      "/opt/anaconda3/lib/python3.11/site-packages/keras/src/layers/core/dense.py:86: UserWarning: Do not pass an `input_shape`/`input_dim` argument to a layer. When using Sequential models, prefer using an `Input(shape)` object as the first layer in the model instead.\n",
      "  super().__init__(activity_regularizer=activity_regularizer, **kwargs)\n"
     ]
    },
    {
     "name": "stdout",
     "output_type": "stream",
     "text": [
      "\u001b[1m500/500\u001b[0m \u001b[32m━━━━━━━━━━━━━━━━━━━━\u001b[0m\u001b[37m\u001b[0m \u001b[1m1s\u001b[0m 1ms/step - accuracy: 0.3124 - loss: 2.4670 - val_accuracy: 0.7122 - val_loss: 1.0741\n",
      "Epoch 2/10\n",
      "\u001b[1m500/500\u001b[0m \u001b[32m━━━━━━━━━━━━━━━━━━━━\u001b[0m\u001b[37m\u001b[0m \u001b[1m0s\u001b[0m 879us/step - accuracy: 0.7176 - loss: 1.0093 - val_accuracy: 0.7818 - val_loss: 0.8419\n",
      "Epoch 3/10\n",
      "\u001b[1m500/500\u001b[0m \u001b[32m━━━━━━━━━━━━━━━━━━━━\u001b[0m\u001b[37m\u001b[0m \u001b[1m0s\u001b[0m 911us/step - accuracy: 0.7658 - loss: 0.8281 - val_accuracy: 0.7890 - val_loss: 0.7765\n",
      "Epoch 4/10\n",
      "\u001b[1m500/500\u001b[0m \u001b[32m━━━━━━━━━━━━━━━━━━━━\u001b[0m\u001b[37m\u001b[0m \u001b[1m1s\u001b[0m 1ms/step - accuracy: 0.7998 - loss: 0.6996 - val_accuracy: 0.8037 - val_loss: 0.6938\n",
      "Epoch 5/10\n",
      "\u001b[1m500/500\u001b[0m \u001b[32m━━━━━━━━━━━━━━━━━━━━\u001b[0m\u001b[37m\u001b[0m \u001b[1m0s\u001b[0m 734us/step - accuracy: 0.8164 - loss: 0.6320 - val_accuracy: 0.8238 - val_loss: 0.5915\n",
      "Epoch 6/10\n",
      "\u001b[1m500/500\u001b[0m \u001b[32m━━━━━━━━━━━━━━━━━━━━\u001b[0m\u001b[37m\u001b[0m \u001b[1m0s\u001b[0m 783us/step - accuracy: 0.8409 - loss: 0.5379 - val_accuracy: 0.8280 - val_loss: 0.5552\n",
      "Epoch 7/10\n",
      "\u001b[1m500/500\u001b[0m \u001b[32m━━━━━━━━━━━━━━━━━━━━\u001b[0m\u001b[37m\u001b[0m \u001b[1m0s\u001b[0m 792us/step - accuracy: 0.8542 - loss: 0.4895 - val_accuracy: 0.8602 - val_loss: 0.4630\n",
      "Epoch 8/10\n",
      "\u001b[1m500/500\u001b[0m \u001b[32m━━━━━━━━━━━━━━━━━━━━\u001b[0m\u001b[37m\u001b[0m \u001b[1m0s\u001b[0m 766us/step - accuracy: 0.8676 - loss: 0.4310 - val_accuracy: 0.8695 - val_loss: 0.4306\n",
      "Epoch 9/10\n",
      "\u001b[1m500/500\u001b[0m \u001b[32m━━━━━━━━━━━━━━━━━━━━\u001b[0m\u001b[37m\u001b[0m \u001b[1m0s\u001b[0m 803us/step - accuracy: 0.8738 - loss: 0.4140 - val_accuracy: 0.8783 - val_loss: 0.4120\n",
      "Epoch 10/10\n",
      "\u001b[1m500/500\u001b[0m \u001b[32m━━━━━━━━━━━━━━━━━━━━\u001b[0m\u001b[37m\u001b[0m \u001b[1m0s\u001b[0m 767us/step - accuracy: 0.8879 - loss: 0.3731 - val_accuracy: 0.8802 - val_loss: 0.3859\n",
      "Total training time: 4.754076957702637 seconds\n",
      "\u001b[1m125/125\u001b[0m \u001b[32m━━━━━━━━━━━━━━━━━━━━\u001b[0m\u001b[37m\u001b[0m \u001b[1m0s\u001b[0m 426us/step - accuracy: 0.8791 - loss: 0.3739\n",
      "Test Accuracy: 0.8802499771118164\n"
     ]
    }
   ],
   "source": [
    "# Build the deep neural network model\n",
    "model = Sequential()\n",
    "model.add(Dense(128, activation='relu', input_shape=(16,)))\n",
    "model.add(Dense(64, activation='relu'))\n",
    "model.add(Dense(26, activation='softmax'))  # 26 classes for letters\n",
    "\n",
    "# Compile the model\n",
    "model.compile(optimizer='adam', loss='sparse_categorical_crossentropy', metrics=['accuracy'])\n",
    "\n",
    "# Train the model\n",
    "start_time = time.time()\n",
    "history = model.fit(X_train, y_train, epochs=10, batch_size=32, validation_data=(X_test, y_test))\n",
    "train_time = time.time() - start_time\n",
    "print(f\"Total training time: {train_time} seconds\")\n",
    "\n",
    "# Evaluate the model\n",
    "test_loss, test_accuracy = model.evaluate(X_test, y_test)\n",
    "print(f'Test Accuracy: {test_accuracy}')"
   ]
  },
  {
   "cell_type": "markdown",
   "id": "4638cf5c",
   "metadata": {},
   "source": [
    "## Making Predictions"
   ]
  },
  {
   "cell_type": "code",
   "execution_count": 5,
   "id": "c20958e6",
   "metadata": {},
   "outputs": [
    {
     "name": "stdout",
     "output_type": "stream",
     "text": [
      "\u001b[1m1/1\u001b[0m \u001b[32m━━━━━━━━━━━━━━━━━━━━\u001b[0m\u001b[37m\u001b[0m \u001b[1m0s\u001b[0m 21ms/step\n",
      "Prediction time: 0.03859901428222656 seconds\n",
      "The predicted class is: 4\n",
      "The predicted class is: 4, which corresponds to the letter: E\n"
     ]
    }
   ],
   "source": [
    "# Given data\n",
    "new_data = np.array([4, 7, 5, 5, 4, 6, 7, 3, 7, 11, 8, 9, 3, 8, 4, 8]).reshape(1, -1)\n",
    "\n",
    "# Use the model to make predictions\n",
    "start_time = time.time()\n",
    "predictions = model.predict(new_data)\n",
    "pred_time = time.time() - start_time\n",
    "print(f\"Prediction time: {pred_time} seconds\")\n",
    "\n",
    "# Display the predictions\n",
    "predicted_class = np.argmax(predictions)\n",
    "print(f'The predicted class is: {predicted_class}')\n",
    "\n",
    "class_mapping = {\n",
    "    0: 'A', 1: 'B', 2: 'C', 3: 'D', 4: 'E', 5: 'F', 6: 'G', 7: 'H', 8: 'I', 9: 'J',\n",
    "    10: 'K', 11: 'L', 12: 'M', 13: 'N', 14: 'O', 15: 'P', 16: 'Q', 17: 'R', 18: 'S', 19: 'T',\n",
    "    20: 'U', 21: 'V', 22: 'W', 23: 'X', 24: 'Y', 25: 'Z'\n",
    "}\n",
    "\n",
    "# Display the predicted class using the mapping\n",
    "predicted_letter = class_mapping[predicted_class]\n",
    "print(f'The predicted class is: {predicted_class}, which corresponds to the letter: {predicted_letter}')\n",
    "\n",
    "# Function to predict letter\n",
    "def predict_letter():\n",
    "    # Retrieve input data from entry widgets\n",
    "    input_data = [entry_vars[var].get() for var in variables]\n",
    "\n",
    "    try:\n",
    "        # Convert input data to numpy array\n",
    "        new_data = np.array(list(map(int, input_data))).reshape(1, -1)\n",
    "\n",
    "        # Use the model to make predictions\n",
    "        predictions = model.predict(new_data)\n",
    "\n",
    "        # Display the predictions\n",
    "        predicted_class = np.argmax(predictions)\n",
    "        predicted_letter = class_mapping.get(predicted_class, 'Unknown')\n",
    "\n",
    "        # Display predicted letter\n",
    "        messagebox.showinfo(\"Prediction Result\", f\"The predicted letter is: {predicted_letter}\")\n",
    "    except ValueError:\n",
    "        messagebox.showerror(\"Error\", \"Invalid input data. Please enter integers.\")"
   ]
  },
  {
   "cell_type": "markdown",
   "id": "50bd4404",
   "metadata": {},
   "source": [
    "## GUI via Tkinte"
   ]
  },
  {
   "cell_type": "code",
   "execution_count": null,
   "id": "2d8adcf0",
   "metadata": {},
   "outputs": [],
   "source": [
    "# Create Tkinter window\n",
    "window = tk.Tk()\n",
    "window.title(\"Letter Prediction\")\n",
    "\n",
    "# List of variable names\n",
    "variables = ['x-box', 'y-box', 'width', 'high', 'onpix', 'x-bar', 'y-bar', 'x2bar', \n",
    "             'y2bar', 'xybar', 'x2ybr', 'xy2br', 'x-ege', 'xegvy', 'y-ege', 'yegvx']\n",
    "\n",
    "# Create labels and entry widgets dynamically, split into two columns\n",
    "entry_vars = {}\n",
    "for i, var in enumerate(variables):\n",
    "    column = 0 if i < len(variables)//2 else 2\n",
    "    if i >= len(variables)//2:\n",
    "        i -= len(variables)//2\n",
    "    \n",
    "    label = tk.Label(window, text=var)\n",
    "    label.grid(row=i, column=column, padx=5, pady=5)\n",
    "    entry_vars[var] = tk.StringVar()\n",
    "    entry = tk.Entry(window, textvariable=entry_vars[var])\n",
    "    entry.grid(row=i, column=column+1, padx=5, pady=5)\n",
    "\n",
    "# Create a button\n",
    "button = tk.Button(window, text=\"Predict Letter\", command=predict_letter)\n",
    "button.grid(row=max(len(variables)//2, len(variables) - len(variables)//2), column=1, pady=10)\n",
    "\n",
    "# Run the Tkinter event loop S,3,2,3,3,2,8,8,7,5,7,5,7,2,8,9,8\n",
    "window.mainloop()"
   ]
  },
  {
   "cell_type": "code",
   "execution_count": null,
   "id": "61914cab",
   "metadata": {},
   "outputs": [],
   "source": []
  }
 ],
 "metadata": {
  "kernelspec": {
   "display_name": "Python 3 (ipykernel)",
   "language": "python",
   "name": "python3"
  },
  "language_info": {
   "codemirror_mode": {
    "name": "ipython",
    "version": 3
   },
   "file_extension": ".py",
   "mimetype": "text/x-python",
   "name": "python",
   "nbconvert_exporter": "python",
   "pygments_lexer": "ipython3",
   "version": "3.11.7"
  }
 },
 "nbformat": 4,
 "nbformat_minor": 5
}
